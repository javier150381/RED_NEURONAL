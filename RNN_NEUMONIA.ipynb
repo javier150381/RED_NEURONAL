{
 "cells": [
  {
   "cell_type": "markdown",
   "metadata": {},
   "source": [
    "# PROYECTO DE INTELIGENCIA ARTIFICIAL\n"
   ]
  },
  {
   "cell_type": "markdown",
   "metadata": {},
   "source": [
    "## Por: Marco Castelo"
   ]
  },
  {
   "cell_type": "markdown",
   "metadata": {},
   "source": [
    "### CREACIÓN DE UNA RED NEURONAL ARTIFICIAL PARA LA DETECCIÓN DE PACIENTES CON NEUMONIA MEDIANTE LA EVALUACIÓN DE RADIOGRAFÍAS DE TORAX"
   ]
  },
  {
   "cell_type": "markdown",
   "metadata": {},
   "source": [
    "#### Importamos las librerías necesarias para crear nuestro modelo"
   ]
  },
  {
   "cell_type": "code",
   "execution_count": 71,
   "metadata": {},
   "outputs": [],
   "source": [
    "import numpy as np\n",
    "import os\n",
    "import re\n",
    "import matplotlib.pyplot as plt\n",
    "%matplotlib inline\n",
    "from sklearn.model_selection import train_test_split\n",
    "from sklearn.metrics import classification_report\n",
    "import keras\n",
    "from keras.utils import to_categorical\n",
    "from keras.models import Sequential,Input,Model\n",
    "from keras.layers import Dense, Dropout, Flatten\n",
    "from keras.layers import Conv2D, MaxPooling2D\n",
    "from keras.layers.normalization import BatchNormalization\n",
    "from keras.layers.advanced_activations import LeakyReLU  ##Librerías que necesitamos para crear nuestra red neuronal"
   ]
  },
  {
   "cell_type": "markdown",
   "metadata": {},
   "source": [
    "#### Cargamos las imágenes en la memoria del computador"
   ]
  },
  {
   "cell_type": "code",
   "execution_count": 72,
   "metadata": {},
   "outputs": [
    {
     "name": "stdout",
     "output_type": "stream",
     "text": [
      "leyendo imagenes de  C:\\Users\\MARCO\\NEUMONIA\\\n",
      "leyendo imagenes de  C:\\Users\\MARCO\\NEUMONIA\\\n",
      "C:\\Users\\MARCO\\NEUMONIA\\NORMAL 1\n",
      "C:\\Users\\MARCO\\NEUMONIA\\PNEUMONIA 1575\n",
      "Directorios leidos: 2\n",
      "Imagenes en cada directorio [1576, 1730]\n",
      "suma Total de imagenes en subdirs: 3306\n"
     ]
    }
   ],
   "source": [
    "dirname = os.path.join(os.getcwd(), 'NEUMONIA')## lugar de donde obtenemos las imágenes de las rediografías\n",
    "imgpath = dirname + os.sep \n",
    "#procedemos a la lecura de las radiografías\n",
    "images = []\n",
    "directories = []\n",
    "dircount = []\n",
    "prevRoot=''\n",
    "cant=0\n",
    "print(\"leyendo imagenes de \",imgpath)\n",
    "dirname = os.path.join(os.getcwd(), 'NEUMONIA') \n",
    "imgpath = dirname + os.sep \n",
    "images = []\n",
    "directories = []\n",
    "dircount = []\n",
    "prevRoot=''\n",
    "cant=0\n",
    "print(\"leyendo imagenes de \",imgpath)\n",
    "for root, dirnames, filenames in os.walk(imgpath):\n",
    "    for filename in filenames:\n",
    "        if re.search(\"\\.(jpg|jpeg|png|bmp|tiff)$\", filename):\n",
    "            cant=cant+1\n",
    "            filepath = os.path.join(root, filename)\n",
    "            image = plt.imread(filepath)\n",
    "            images.append(image)\n",
    "            b = \"Leyendo...\" + str(cant)\n",
    "            print (b, end=\"\\r\")\n",
    "            if prevRoot !=root:\n",
    "                print(root, cant)\n",
    "                prevRoot=root\n",
    "                directories.append(root)\n",
    "                dircount.append(cant)\n",
    "                cant=0\n",
    "dircount.append(cant) \n",
    "dircount = dircount[1:]#obtenemos el número de imágenes que tiene cada directorio\n",
    "dircount[0]=dircount[0]+1\n",
    "print('Directorios leidos:',len(directories))\n",
    "print(\"Imagenes en cada directorio\", dircount)\n",
    "print('suma Total de imagenes en subdirs:',sum(dircount))"
   ]
  },
  {
   "cell_type": "markdown",
   "metadata": {},
   "source": [
    "#### Creamos las etiquetas"
   ]
  },
  {
   "cell_type": "code",
   "execution_count": 73,
   "metadata": {},
   "outputs": [
    {
     "name": "stdout",
     "output_type": "stream",
     "text": [
      "Cantidad etiquetas creadas:  3306\n"
     ]
    }
   ],
   "source": [
    "labels=[] #creamos las etiquetas\n",
    "indice=0\n",
    "for cantidad in dircount:\n",
    "    for i in range(cantidad):\n",
    "        labels.append(indice)\n",
    "    indice=indice+1\n",
    "print(\"Cantidad etiquetas creadas: \",len(labels))"
   ]
  },
  {
   "cell_type": "markdown",
   "metadata": {},
   "source": [
    "#### Creamos las clases y las guardamos en una lista"
   ]
  },
  {
   "cell_type": "code",
   "execution_count": 74,
   "metadata": {},
   "outputs": [
    {
     "name": "stdout",
     "output_type": "stream",
     "text": [
      "0 NORMAL\n",
      "1 PNEUMONIA\n"
     ]
    }
   ],
   "source": [
    "NEUMONIA=[]\n",
    "indice=0\n",
    "for directorio in directories:\n",
    "    name = directorio.split(os.sep)\n",
    "    print(indice , name[len(name)-1])\n",
    "    NEUMONIA.append(name[len(name)-1])\n",
    "    indice=indice+1#en la lista NEUMONIA guardamos las clases etiquetadas"
   ]
  },
  {
   "cell_type": "code",
   "execution_count": 75,
   "metadata": {},
   "outputs": [
    {
     "name": "stdout",
     "output_type": "stream",
     "text": [
      "Número total de salidas :  2\n",
      "Tipos de salida :  [0 1]\n"
     ]
    }
   ],
   "source": [
    "y = np.array(labels)\n",
    "X = np.array(images, dtype=np.uint8) #convierto de lista a numpy\n",
    "\n",
    "\n",
    "classes = np.unique(y)\n",
    "nClasses = len(classes)\n",
    "print('Número total de salidas : ', nClasses)\n",
    "print('Tipos de salida : ', classes)"
   ]
  },
  {
   "cell_type": "markdown",
   "metadata": {},
   "source": [
    "#### Dividimos los datos en entrenamiento y prueba"
   ]
  },
  {
   "cell_type": "code",
   "execution_count": 76,
   "metadata": {},
   "outputs": [
    {
     "name": "stdout",
     "output_type": "stream",
     "text": [
      "Datos de Entrenamiento:  (2644, 28, 28, 3) (2644,)\n",
      "Datos de Prueba :  (662, 28, 28, 3) (662,)\n"
     ]
    }
   ],
   "source": [
    "train_X,test_X,train_Y,test_Y = train_test_split(X,y,test_size=0.2)\n",
    "print('Datos de Entrenamiento: ', train_X.shape, train_Y.shape)\n",
    "print('Datos de Prueba : ', test_X.shape, test_Y.shape)"
   ]
  },
  {
   "cell_type": "markdown",
   "metadata": {},
   "source": [
    "#### Mostramos una imagen de entrenamiento y una de prueba"
   ]
  },
  {
   "cell_type": "code",
   "execution_count": 77,
   "metadata": {},
   "outputs": [
    {
     "data": {
      "text/plain": [
       "Text(0.5, 1.0, 'Imágenes de prueba : 0')"
      ]
     },
     "execution_count": 77,
     "metadata": {},
     "output_type": "execute_result"
    },
    {
     "data": {
      "image/png": "[encoded data removed]",
      "text/plain": [
       "<Figure size 360x360 with 2 Axes>"
      ]
     },
     "metadata": {
      "needs_background": "light"
     },
     "output_type": "display_data"
    }
   ],
   "source": [
    "plt.figure(figsize=[5,5])\n",
    "\n",
    "# Se muestra la primera imagen de los datos de entrenamiemto\n",
    "plt.subplot(121)\n",
    "plt.imshow(train_X[0,:,:], cmap='gray')\n",
    "plt.title(\"Imagen de entrenamiento : {}\".format(train_Y[0]))\n",
    "\n",
    "# Se muestra la primera imagen de los datos de prueba\n",
    "plt.subplot(122)\n",
    "plt.imshow(test_X[0,:,:], cmap='gray')\n",
    "plt.title(\"Imágenes de prueba : {}\".format(test_Y[0]))"
   ]
  },
  {
   "cell_type": "markdown",
   "metadata": {},
   "source": [
    "#### Preparamos las variables para la construcción del modelo\n"
   ]
  },
  {
   "cell_type": "code",
   "execution_count": 78,
   "metadata": {},
   "outputs": [],
   "source": [
    "train_X = train_X.astype('float32')\n",
    "test_X = test_X.astype('float32')\n",
    "train_X = train_X / 255.\n",
    "test_X = test_X / 255."
   ]
  },
  {
   "cell_type": "code",
   "execution_count": 79,
   "metadata": {},
   "outputs": [
    {
     "name": "stdout",
     "output_type": "stream",
     "text": [
      "Original : 1\n",
      "después de la conversion to one-hot: [0. 1.]\n"
     ]
    }
   ],
   "source": [
    "train_Y_one_hot = to_categorical(train_Y)\n",
    "test_Y_one_hot = to_categorical(test_Y)\n",
    "\n",
    "print('Original :', train_Y[0])\n",
    "print('después de la conversion to one-hot:', train_Y_one_hot[0])"
   ]
  },
  {
   "cell_type": "code",
   "execution_count": 80,
   "metadata": {},
   "outputs": [],
   "source": [
    "#Mezclar todo y crear los grupos de entrenamiento y prueba\n",
    "train_X,valid_X,train_label,valid_label = train_test_split(train_X, train_Y_one_hot, test_size=0.2, random_state=13)"
   ]
  },
  {
   "cell_type": "code",
   "execution_count": 81,
   "metadata": {},
   "outputs": [
    {
     "name": "stdout",
     "output_type": "stream",
     "text": [
      "(2115, 28, 28, 3) (529, 28, 28, 3) (2115, 2) (529, 2)\n"
     ]
    }
   ],
   "source": [
    "print(train_X.shape,valid_X.shape,train_label.shape,valid_label.shape)"
   ]
  },
  {
   "cell_type": "markdown",
   "metadata": {},
   "source": [
    "## Creación del modelo "
   ]
  },
  {
   "cell_type": "code",
   "execution_count": 82,
   "metadata": {},
   "outputs": [],
   "source": [
    "#declaramos variables con los parámetros de configuración de la red\n",
    "INIT_LR = 1e-3 # Valor inicial de learning rate. El valor 1e-3 corresponde con 0.001\n",
    "epochs = 150 # Cantidad de épocas de la red Neuronal \n",
    "batch_size = 64 # Tamaño de lote de imagenes en memoria"
   ]
  },
  {
   "cell_type": "code",
   "execution_count": 83,
   "metadata": {},
   "outputs": [],
   "source": [
    "neumo_model = Sequential()\n",
    "neumo_model.add(Conv2D(128, kernel_size=(3, 3),activation='linear',padding='same',input_shape=(28,28,3)))\n",
    "neumo_model.add(LeakyReLU(alpha=0.1))\n",
    "neumo_model.add(MaxPooling2D((2, 2),padding='same'))\n",
    "neumo_model.add(Dropout(0.5))\n",
    "neumo_model.add(Flatten())\n",
    "neumo_model.add(Dense(32, activation='linear'))\n",
    "neumo_model.add(LeakyReLU(alpha=0.1))\n",
    "neumo_model.add(Dropout(0.5))\n",
    "neumo_model.add(Dense(nClasses, activation='softmax'))"
   ]
  },
  {
   "cell_type": "code",
   "execution_count": 84,
   "metadata": {},
   "outputs": [
    {
     "name": "stdout",
     "output_type": "stream",
     "text": [
      "Model: \"sequential_4\"\n",
      "_________________________________________________________________\n",
      "Layer (type)                 Output Shape              Param #   \n",
      "=================================================================\n",
      "conv2d_4 (Conv2D)            (None, 28, 28, 128)       3584      \n",
      "_________________________________________________________________\n",
      "leaky_re_lu_7 (LeakyReLU)    (None, 28, 28, 128)       0         \n",
      "_________________________________________________________________\n",
      "max_pooling2d_4 (MaxPooling2 (None, 14, 14, 128)       0         \n",
      "_________________________________________________________________\n",
      "dropout_7 (Dropout)          (None, 14, 14, 128)       0         \n",
      "_________________________________________________________________\n",
      "flatten_4 (Flatten)          (None, 25088)             0         \n",
      "_________________________________________________________________\n",
      "dense_7 (Dense)              (None, 32)                802848    \n",
      "_________________________________________________________________\n",
      "leaky_re_lu_8 (LeakyReLU)    (None, 32)                0         \n",
      "_________________________________________________________________\n",
      "dropout_8 (Dropout)          (None, 32)                0         \n",
      "_________________________________________________________________\n",
      "dense_8 (Dense)              (None, 2)                 66        \n",
      "=================================================================\n",
      "Total params: 806,498\n",
      "Trainable params: 806,498\n",
      "Non-trainable params: 0\n",
      "_________________________________________________________________\n"
     ]
    }
   ],
   "source": [
    "neumo_model.summary()"
   ]
  },
  {
   "cell_type": "code",
   "execution_count": 85,
   "metadata": {},
   "outputs": [],
   "source": [
    "neumo_model.compile(loss=keras.losses.categorical_crossentropy, optimizer=keras.optimizers.Adagrad(lr=INIT_LR, decay=INIT_LR / 100),metrics=['accuracy'])"
   ]
  },
  {
   "cell_type": "code",
   "execution_count": 86,
   "metadata": {},
   "outputs": [
    {
     "name": "stdout",
     "output_type": "stream",
     "text": [
      "Train on 2115 samples, validate on 529 samples\n",
      "Epoch 1/150\n",
      "2115/2115 [==============================] - 4s 2ms/step - loss: 0.6408 - accuracy: 0.7012 - val_loss: 0.7766 - val_accuracy: 0.5236\n",
      "Epoch 2/150\n",
      "2115/2115 [==============================] - 3s 2ms/step - loss: 0.4602 - accuracy: 0.7957 - val_loss: 0.3967 - val_accuracy: 0.8299\n",
      "Epoch 3/150\n",
      "2115/2115 [==============================] - 4s 2ms/step - loss: 0.4101 - accuracy: 0.8326 - val_loss: 0.3908 - val_accuracy: 0.8318\n",
      "Epoch 4/150\n",
      "2115/2115 [==============================] - 4s 2ms/step - loss: 0.3858 - accuracy: 0.8369 - val_loss: 0.4277 - val_accuracy: 0.7940\n",
      "Epoch 5/150\n",
      "2115/2115 [==============================] - 4s 2ms/step - loss: 0.3776 - accuracy: 0.8416 - val_loss: 0.3679 - val_accuracy: 0.8374\n",
      "Epoch 6/150\n",
      "2115/2115 [==============================] - 3s 2ms/step - loss: 0.3582 - accuracy: 0.8487 - val_loss: 0.3540 - val_accuracy: 0.8639\n",
      "Epoch 7/150\n",
      "2115/2115 [==============================] - 4s 2ms/step - loss: 0.3472 - accuracy: 0.8553 - val_loss: 0.3490 - val_accuracy: 0.8450\n",
      "Epoch 8/150\n",
      "2115/2115 [==============================] - 4s 2ms/step - loss: 0.3399 - accuracy: 0.8586 - val_loss: 0.3392 - val_accuracy: 0.8507\n",
      "Epoch 9/150\n",
      "2115/2115 [==============================] - 4s 2ms/step - loss: 0.3271 - accuracy: 0.8629 - val_loss: 0.3473 - val_accuracy: 0.8507\n",
      "Epoch 10/150\n",
      "2115/2115 [==============================] - 4s 2ms/step - loss: 0.3244 - accuracy: 0.8652 - val_loss: 0.3172 - val_accuracy: 0.8696\n",
      "Epoch 11/150\n",
      "2115/2115 [==============================] - 4s 2ms/step - loss: 0.3167 - accuracy: 0.8747 - val_loss: 0.3764 - val_accuracy: 0.8299\n",
      "Epoch 12/150\n",
      "2115/2115 [==============================] - 4s 2ms/step - loss: 0.3148 - accuracy: 0.8790 - val_loss: 0.3837 - val_accuracy: 0.8318\n",
      "Epoch 13/150\n",
      "2115/2115 [==============================] - 4s 2ms/step - loss: 0.3000 - accuracy: 0.8714 - val_loss: 0.3223 - val_accuracy: 0.8639\n",
      "Epoch 14/150\n",
      "2115/2115 [==============================] - 4s 2ms/step - loss: 0.3070 - accuracy: 0.8804 - val_loss: 0.2982 - val_accuracy: 0.8847\n",
      "Epoch 15/150\n",
      "2115/2115 [==============================] - 4s 2ms/step - loss: 0.3041 - accuracy: 0.8766 - val_loss: 0.2991 - val_accuracy: 0.8790\n",
      "Epoch 16/150\n",
      "2115/2115 [==============================] - 4s 2ms/step - loss: 0.2878 - accuracy: 0.8903 - val_loss: 0.2971 - val_accuracy: 0.8733\n",
      "Epoch 17/150\n",
      "2115/2115 [==============================] - 3s 2ms/step - loss: 0.2924 - accuracy: 0.8842 - val_loss: 0.2855 - val_accuracy: 0.8828\n",
      "Epoch 18/150\n",
      "2115/2115 [==============================] - 4s 2ms/step - loss: 0.2937 - accuracy: 0.8842 - val_loss: 0.2845 - val_accuracy: 0.8771\n",
      "Epoch 19/150\n",
      "2115/2115 [==============================] - 4s 2ms/step - loss: 0.2908 - accuracy: 0.8827 - val_loss: 0.2743 - val_accuracy: 0.8904\n",
      "Epoch 20/150\n",
      "2115/2115 [==============================] - 4s 2ms/step - loss: 0.2853 - accuracy: 0.8908 - val_loss: 0.3034 - val_accuracy: 0.8733\n",
      "Epoch 21/150\n",
      "2115/2115 [==============================] - 4s 2ms/step - loss: 0.2814 - accuracy: 0.8913 - val_loss: 0.2768 - val_accuracy: 0.8885\n",
      "Epoch 22/150\n",
      "2115/2115 [==============================] - 4s 2ms/step - loss: 0.2823 - accuracy: 0.8894 - val_loss: 0.2807 - val_accuracy: 0.8904\n",
      "Epoch 23/150\n",
      "2115/2115 [==============================] - 4s 2ms/step - loss: 0.2774 - accuracy: 0.8889 - val_loss: 0.2659 - val_accuracy: 0.8885\n",
      "Epoch 24/150\n",
      "2115/2115 [==============================] - 4s 2ms/step - loss: 0.2762 - accuracy: 0.8965 - val_loss: 0.2795 - val_accuracy: 0.8885\n",
      "Epoch 25/150\n",
      "2115/2115 [==============================] - 4s 2ms/step - loss: 0.2659 - accuracy: 0.8946 - val_loss: 0.2631 - val_accuracy: 0.8904\n",
      "Epoch 26/150\n",
      "2115/2115 [==============================] - 4s 2ms/step - loss: 0.2688 - accuracy: 0.8922 - val_loss: 0.2815 - val_accuracy: 0.8885\n",
      "Epoch 27/150\n",
      "2115/2115 [==============================] - 4s 2ms/step - loss: 0.2664 - accuracy: 0.8974 - val_loss: 0.3082 - val_accuracy: 0.8677\n",
      "Epoch 28/150\n",
      "2115/2115 [==============================] - 3s 2ms/step - loss: 0.2740 - accuracy: 0.8894 - val_loss: 0.2600 - val_accuracy: 0.8922\n",
      "Epoch 29/150\n",
      "2115/2115 [==============================] - 3s 2ms/step - loss: 0.2672 - accuracy: 0.8898 - val_loss: 0.3206 - val_accuracy: 0.8696\n",
      "Epoch 30/150\n",
      "2115/2115 [==============================] - 4s 2ms/step - loss: 0.2649 - accuracy: 0.8960 - val_loss: 0.2547 - val_accuracy: 0.8979\n",
      "Epoch 31/150\n",
      "2115/2115 [==============================] - 3s 2ms/step - loss: 0.2650 - accuracy: 0.9007 - val_loss: 0.3036 - val_accuracy: 0.8658\n",
      "Epoch 32/150\n",
      "2115/2115 [==============================] - 4s 2ms/step - loss: 0.2685 - accuracy: 0.8946 - val_loss: 0.2777 - val_accuracy: 0.8960\n",
      "Epoch 33/150\n",
      "2115/2115 [==============================] - 4s 2ms/step - loss: 0.2662 - accuracy: 0.8950 - val_loss: 0.2586 - val_accuracy: 0.8904\n",
      "Epoch 34/150\n",
      "2115/2115 [==============================] - 4s 2ms/step - loss: 0.2611 - accuracy: 0.8950 - val_loss: 0.2755 - val_accuracy: 0.8847\n",
      "Epoch 35/150\n",
      "2115/2115 [==============================] - 4s 2ms/step - loss: 0.2607 - accuracy: 0.8998 - val_loss: 0.2596 - val_accuracy: 0.8922\n",
      "Epoch 36/150\n",
      "2115/2115 [==============================] - 3s 2ms/step - loss: 0.2577 - accuracy: 0.9012 - val_loss: 0.2967 - val_accuracy: 0.8715\n",
      "Epoch 37/150\n",
      "2115/2115 [==============================] - 4s 2ms/step - loss: 0.2498 - accuracy: 0.9073 - val_loss: 0.2486 - val_accuracy: 0.8941\n",
      "Epoch 38/150\n",
      "2115/2115 [==============================] - 4s 2ms/step - loss: 0.2536 - accuracy: 0.8983 - val_loss: 0.2806 - val_accuracy: 0.8809\n",
      "Epoch 39/150\n",
      "2115/2115 [==============================] - 3s 2ms/step - loss: 0.2617 - accuracy: 0.9002 - val_loss: 0.2583 - val_accuracy: 0.8866\n",
      "Epoch 40/150\n",
      "2115/2115 [==============================] - 4s 2ms/step - loss: 0.2566 - accuracy: 0.9035 - val_loss: 0.2932 - val_accuracy: 0.8771\n",
      "Epoch 41/150\n",
      "2115/2115 [==============================] - 4s 2ms/step - loss: 0.2654 - accuracy: 0.9064 - val_loss: 0.2629 - val_accuracy: 0.8847.2720 - \n",
      "Epoch 42/150\n",
      "2115/2115 [==============================] - 4s 2ms/step - loss: 0.2493 - accuracy: 0.9031 - val_loss: 0.3038 - val_accuracy: 0.8733\n",
      "Epoch 43/150\n",
      "2115/2115 [==============================] - 4s 2ms/step - loss: 0.2523 - accuracy: 0.9078 - val_loss: 0.2453 - val_accuracy: 0.8941\n",
      "Epoch 44/150\n",
      "2115/2115 [==============================] - 4s 2ms/step - loss: 0.2451 - accuracy: 0.9092 - val_loss: 0.2530 - val_accuracy: 0.8885\n",
      "Epoch 45/150\n",
      "2115/2115 [==============================] - 4s 2ms/step - loss: 0.2486 - accuracy: 0.9002 - val_loss: 0.2402 - val_accuracy: 0.9017\n",
      "Epoch 46/150\n",
      "2115/2115 [==============================] - 4s 2ms/step - loss: 0.2515 - accuracy: 0.9031 - val_loss: 0.2431 - val_accuracy: 0.9055\n",
      "Epoch 47/150\n",
      "2115/2115 [==============================] - 4s 2ms/step - loss: 0.2436 - accuracy: 0.9092 - val_loss: 0.2396 - val_accuracy: 0.9036\n",
      "Epoch 48/150\n",
      "2115/2115 [==============================] - 4s 2ms/step - loss: 0.2341 - accuracy: 0.9092 - val_loss: 0.2610 - val_accuracy: 0.8866\n",
      "Epoch 49/150\n",
      "2115/2115 [==============================] - 3s 2ms/step - loss: 0.2505 - accuracy: 0.9026 - val_loss: 0.2429 - val_accuracy: 0.8960\n",
      "Epoch 50/150\n",
      "2115/2115 [==============================] - 4s 2ms/step - loss: 0.2493 - accuracy: 0.9064 - val_loss: 0.2446 - val_accuracy: 0.9017\n",
      "Epoch 51/150\n",
      "2115/2115 [==============================] - 3s 2ms/step - loss: 0.2472 - accuracy: 0.9040 - val_loss: 0.3532 - val_accuracy: 0.8469\n",
      "Epoch 52/150\n",
      "2115/2115 [==============================] - 3s 2ms/step - loss: 0.2459 - accuracy: 0.9035 - val_loss: 0.2647 - val_accuracy: 0.9055\n",
      "Epoch 53/150\n",
      "2115/2115 [==============================] - 3s 2ms/step - loss: 0.2471 - accuracy: 0.9064 - val_loss: 0.2780 - val_accuracy: 0.8790\n",
      "Epoch 54/150\n",
      "2115/2115 [==============================] - 3s 2ms/step - loss: 0.2469 - accuracy: 0.9017 - val_loss: 0.2347 - val_accuracy: 0.9036\n",
      "Epoch 55/150\n",
      "2115/2115 [==============================] - 4s 2ms/step - loss: 0.2362 - accuracy: 0.9035 - val_loss: 0.2365 - val_accuracy: 0.8941\n",
      "Epoch 56/150\n",
      "2115/2115 [==============================] - 4s 2ms/step - loss: 0.2395 - accuracy: 0.9130 - val_loss: 0.2373 - val_accuracy: 0.9055\n"
     ]
    },
    {
     "name": "stdout",
     "output_type": "stream",
     "text": [
      "Epoch 57/150\n",
      "2115/2115 [==============================] - 4s 2ms/step - loss: 0.2422 - accuracy: 0.9073 - val_loss: 0.2340 - val_accuracy: 0.9036\n",
      "Epoch 58/150\n",
      "2115/2115 [==============================] - 4s 2ms/step - loss: 0.2359 - accuracy: 0.9139 - val_loss: 0.2330 - val_accuracy: 0.9074\n",
      "Epoch 59/150\n",
      "2115/2115 [==============================] - 3s 2ms/step - loss: 0.2305 - accuracy: 0.9097 - val_loss: 0.2479 - val_accuracy: 0.8885\n",
      "Epoch 60/150\n",
      "2115/2115 [==============================] - 3s 2ms/step - loss: 0.2384 - accuracy: 0.9087 - val_loss: 0.2331 - val_accuracy: 0.8998\n",
      "Epoch 61/150\n",
      "2115/2115 [==============================] - 3s 2ms/step - loss: 0.2386 - accuracy: 0.9059 - val_loss: 0.2361 - val_accuracy: 0.9036\n",
      "Epoch 62/150\n",
      "2115/2115 [==============================] - 4s 2ms/step - loss: 0.2327 - accuracy: 0.9144 - val_loss: 0.2457 - val_accuracy: 0.8904\n",
      "Epoch 63/150\n",
      "2115/2115 [==============================] - 4s 2ms/step - loss: 0.2255 - accuracy: 0.9168 - val_loss: 0.2299 - val_accuracy: 0.9036\n",
      "Epoch 64/150\n",
      "2115/2115 [==============================] - 3s 2ms/step - loss: 0.2383 - accuracy: 0.9097 - val_loss: 0.2349 - val_accuracy: 0.9055\n",
      "Epoch 65/150\n",
      "2115/2115 [==============================] - 3s 2ms/step - loss: 0.2317 - accuracy: 0.9121 - val_loss: 0.2301 - val_accuracy: 0.9055\n",
      "Epoch 66/150\n",
      "2115/2115 [==============================] - 4s 2ms/step - loss: 0.2361 - accuracy: 0.9116 - val_loss: 0.2435 - val_accuracy: 0.9074\n",
      "Epoch 67/150\n",
      "2115/2115 [==============================] - 4s 2ms/step - loss: 0.2339 - accuracy: 0.9121 - val_loss: 0.2337 - val_accuracy: 0.9074\n",
      "Epoch 68/150\n",
      "2115/2115 [==============================] - 4s 2ms/step - loss: 0.2288 - accuracy: 0.9125 - val_loss: 0.2418 - val_accuracy: 0.8960\n",
      "Epoch 69/150\n",
      "2115/2115 [==============================] - 3s 2ms/step - loss: 0.2315 - accuracy: 0.9154 - val_loss: 0.2299 - val_accuracy: 0.9130\n",
      "Epoch 70/150\n",
      "2115/2115 [==============================] - 4s 2ms/step - loss: 0.2266 - accuracy: 0.9163 - val_loss: 0.2313 - val_accuracy: 0.9074\n",
      "Epoch 71/150\n",
      "2115/2115 [==============================] - 3s 2ms/step - loss: 0.2305 - accuracy: 0.9144 - val_loss: 0.2302 - val_accuracy: 0.9074\n",
      "Epoch 72/150\n",
      "2115/2115 [==============================] - 4s 2ms/step - loss: 0.2299 - accuracy: 0.9092 - val_loss: 0.2425 - val_accuracy: 0.9055\n",
      "Epoch 73/150\n",
      "2115/2115 [==============================] - 3s 2ms/step - loss: 0.2278 - accuracy: 0.9196 - val_loss: 0.2276 - val_accuracy: 0.9074\n",
      "Epoch 74/150\n",
      "2115/2115 [==============================] - 3s 2ms/step - loss: 0.2282 - accuracy: 0.9168 - val_loss: 0.2314 - val_accuracy: 0.9036\n",
      "Epoch 75/150\n",
      "2115/2115 [==============================] - 3s 2ms/step - loss: 0.2230 - accuracy: 0.9106 - val_loss: 0.2256 - val_accuracy: 0.9093\n",
      "Epoch 76/150\n",
      "2115/2115 [==============================] - 4s 2ms/step - loss: 0.2287 - accuracy: 0.9163 - val_loss: 0.2250 - val_accuracy: 0.9074\n",
      "Epoch 77/150\n",
      "2115/2115 [==============================] - 3s 2ms/step - loss: 0.2218 - accuracy: 0.9097 - val_loss: 0.2284 - val_accuracy: 0.9112\n",
      "Epoch 78/150\n",
      "2115/2115 [==============================] - 4s 2ms/step - loss: 0.2280 - accuracy: 0.9158 - val_loss: 0.2337 - val_accuracy: 0.8922\n",
      "Epoch 79/150\n",
      "2115/2115 [==============================] - 4s 2ms/step - loss: 0.2298 - accuracy: 0.9139 - val_loss: 0.2667 - val_accuracy: 0.8904\n",
      "Epoch 80/150\n",
      "2115/2115 [==============================] - 4s 2ms/step - loss: 0.2217 - accuracy: 0.9154 - val_loss: 0.2241 - val_accuracy: 0.9074\n",
      "Epoch 81/150\n",
      "2115/2115 [==============================] - 4s 2ms/step - loss: 0.2267 - accuracy: 0.9125 - val_loss: 0.2574 - val_accuracy: 0.8998\n",
      "Epoch 82/150\n",
      "2115/2115 [==============================] - 3s 2ms/step - loss: 0.2232 - accuracy: 0.9168 - val_loss: 0.2285 - val_accuracy: 0.9055\n",
      "Epoch 83/150\n",
      "2115/2115 [==============================] - 3s 2ms/step - loss: 0.2174 - accuracy: 0.9196 - val_loss: 0.2344 - val_accuracy: 0.8941\n",
      "Epoch 84/150\n",
      "2115/2115 [==============================] - 4s 2ms/step - loss: 0.2271 - accuracy: 0.9130 - val_loss: 0.2242 - val_accuracy: 0.9093\n",
      "Epoch 85/150\n",
      "2115/2115 [==============================] - 3s 2ms/step - loss: 0.2257 - accuracy: 0.9201 - val_loss: 0.2321 - val_accuracy: 0.8960\n",
      "Epoch 86/150\n",
      "2115/2115 [==============================] - 3s 2ms/step - loss: 0.2190 - accuracy: 0.9158 - val_loss: 0.2264 - val_accuracy: 0.9055\n",
      "Epoch 87/150\n",
      "2115/2115 [==============================] - 3s 2ms/step - loss: 0.2202 - accuracy: 0.9182 - val_loss: 0.2361 - val_accuracy: 0.9112\n",
      "Epoch 88/150\n",
      "2115/2115 [==============================] - 3s 2ms/step - loss: 0.2130 - accuracy: 0.9187 - val_loss: 0.2782 - val_accuracy: 0.8771\n",
      "Epoch 89/150\n",
      "2115/2115 [==============================] - 3s 2ms/step - loss: 0.2244 - accuracy: 0.9187 - val_loss: 0.2204 - val_accuracy: 0.9093\n",
      "Epoch 90/150\n",
      "2115/2115 [==============================] - 3s 2ms/step - loss: 0.2126 - accuracy: 0.9215 - val_loss: 0.2414 - val_accuracy: 0.9093\n",
      "Epoch 91/150\n",
      "2115/2115 [==============================] - 3s 2ms/step - loss: 0.2174 - accuracy: 0.9125 - val_loss: 0.2289 - val_accuracy: 0.9017\n",
      "Epoch 92/150\n",
      "2115/2115 [==============================] - 3s 2ms/step - loss: 0.2238 - accuracy: 0.9139 - val_loss: 0.2281 - val_accuracy: 0.8979\n",
      "Epoch 93/150\n",
      "2115/2115 [==============================] - 3s 2ms/step - loss: 0.2208 - accuracy: 0.9158 - val_loss: 0.2225 - val_accuracy: 0.9093\n",
      "Epoch 94/150\n",
      "2115/2115 [==============================] - 3s 2ms/step - loss: 0.2152 - accuracy: 0.9158 - val_loss: 0.2297 - val_accuracy: 0.9017\n",
      "Epoch 95/150\n",
      "2115/2115 [==============================] - 3s 2ms/step - loss: 0.2158 - accuracy: 0.9248 - val_loss: 0.2202 - val_accuracy: 0.9093\n",
      "Epoch 96/150\n",
      "2115/2115 [==============================] - 3s 2ms/step - loss: 0.2082 - accuracy: 0.9234 - val_loss: 0.2217 - val_accuracy: 0.9093\n",
      "Epoch 97/150\n",
      "2115/2115 [==============================] - 3s 2ms/step - loss: 0.2165 - accuracy: 0.9173 - val_loss: 0.2199 - val_accuracy: 0.9112\n",
      "Epoch 98/150\n",
      "2115/2115 [==============================] - 3s 2ms/step - loss: 0.2175 - accuracy: 0.9149 - val_loss: 0.2404 - val_accuracy: 0.9093\n",
      "Epoch 99/150\n",
      "2115/2115 [==============================] - 3s 2ms/step - loss: 0.2070 - accuracy: 0.9163 - val_loss: 0.2475 - val_accuracy: 0.9055\n",
      "Epoch 100/150\n",
      "2115/2115 [==============================] - 3s 2ms/step - loss: 0.2124 - accuracy: 0.9281 - val_loss: 0.2216 - val_accuracy: 0.9112\n",
      "Epoch 101/150\n",
      "2115/2115 [==============================] - 3s 2ms/step - loss: 0.2164 - accuracy: 0.9163 - val_loss: 0.2212 - val_accuracy: 0.9112\n",
      "Epoch 102/150\n",
      "2115/2115 [==============================] - 3s 2ms/step - loss: 0.2128 - accuracy: 0.9163 - val_loss: 0.2197 - val_accuracy: 0.9093\n",
      "Epoch 103/150\n",
      "2115/2115 [==============================] - 3s 2ms/step - loss: 0.2105 - accuracy: 0.9182 - val_loss: 0.2228 - val_accuracy: 0.9093\n",
      "Epoch 104/150\n",
      "2115/2115 [==============================] - 3s 2ms/step - loss: 0.2051 - accuracy: 0.9234 - val_loss: 0.2184 - val_accuracy: 0.9130\n",
      "Epoch 105/150\n",
      "2115/2115 [==============================] - 3s 2ms/step - loss: 0.2143 - accuracy: 0.9173 - val_loss: 0.2187 - val_accuracy: 0.9093\n",
      "Epoch 106/150\n",
      "2115/2115 [==============================] - 3s 2ms/step - loss: 0.2062 - accuracy: 0.9258 - val_loss: 0.2782 - val_accuracy: 0.8771\n",
      "Epoch 107/150\n",
      "2115/2115 [==============================] - 3s 2ms/step - loss: 0.2148 - accuracy: 0.9220 - val_loss: 0.2416 - val_accuracy: 0.8979\n",
      "Epoch 108/150\n",
      "2115/2115 [==============================] - 3s 2ms/step - loss: 0.2183 - accuracy: 0.9163 - val_loss: 0.2208 - val_accuracy: 0.9093\n",
      "Epoch 109/150\n",
      "2115/2115 [==============================] - 3s 2ms/step - loss: 0.2151 - accuracy: 0.9168 - val_loss: 0.2177 - val_accuracy: 0.9112\n",
      "Epoch 110/150\n",
      "2115/2115 [==============================] - 3s 2ms/step - loss: 0.2112 - accuracy: 0.9201 - val_loss: 0.2185 - val_accuracy: 0.9112\n",
      "Epoch 111/150\n",
      "2115/2115 [==============================] - 3s 2ms/step - loss: 0.2120 - accuracy: 0.9229 - val_loss: 0.2160 - val_accuracy: 0.9093\n",
      "Epoch 112/150\n",
      "2115/2115 [==============================] - 3s 2ms/step - loss: 0.2080 - accuracy: 0.9220 - val_loss: 0.2172 - val_accuracy: 0.9112\n",
      "Epoch 113/150\n"
     ]
    },
    {
     "name": "stdout",
     "output_type": "stream",
     "text": [
      "2115/2115 [==============================] - 3s 2ms/step - loss: 0.2081 - accuracy: 0.9187 - val_loss: 0.2160 - val_accuracy: 0.9149\n",
      "Epoch 114/150\n",
      "2115/2115 [==============================] - 3s 2ms/step - loss: 0.2111 - accuracy: 0.9234 - val_loss: 0.2161 - val_accuracy: 0.9130\n",
      "Epoch 115/150\n",
      "2115/2115 [==============================] - 3s 2ms/step - loss: 0.2097 - accuracy: 0.9258 - val_loss: 0.2154 - val_accuracy: 0.9130\n",
      "Epoch 116/150\n",
      "2115/2115 [==============================] - 3s 2ms/step - loss: 0.2127 - accuracy: 0.9229 - val_loss: 0.2155 - val_accuracy: 0.9112\n",
      "Epoch 117/150\n",
      "2115/2115 [==============================] - 3s 2ms/step - loss: 0.2056 - accuracy: 0.9277 - val_loss: 0.2165 - val_accuracy: 0.9112\n",
      "Epoch 118/150\n",
      "2115/2115 [==============================] - 3s 2ms/step - loss: 0.2077 - accuracy: 0.9220 - val_loss: 0.2383 - val_accuracy: 0.9130\n",
      "Epoch 119/150\n",
      "2115/2115 [==============================] - 4s 2ms/step - loss: 0.2067 - accuracy: 0.9243 - val_loss: 0.2193 - val_accuracy: 0.9074\n",
      "Epoch 120/150\n",
      "2115/2115 [==============================] - 3s 2ms/step - loss: 0.2143 - accuracy: 0.9215 - val_loss: 0.2191 - val_accuracy: 0.9074\n",
      "Epoch 121/150\n",
      "2115/2115 [==============================] - 3s 2ms/step - loss: 0.2081 - accuracy: 0.9225 - val_loss: 0.2175 - val_accuracy: 0.9112\n",
      "Epoch 122/150\n",
      "2115/2115 [==============================] - 3s 2ms/step - loss: 0.2085 - accuracy: 0.9196 - val_loss: 0.2158 - val_accuracy: 0.9112\n",
      "Epoch 123/150\n",
      "2115/2115 [==============================] - 3s 2ms/step - loss: 0.2043 - accuracy: 0.9191 - val_loss: 0.2223 - val_accuracy: 0.9112\n",
      "Epoch 124/150\n",
      "2115/2115 [==============================] - 3s 2ms/step - loss: 0.2040 - accuracy: 0.9239 - val_loss: 0.2207 - val_accuracy: 0.9074\n",
      "Epoch 125/150\n",
      "2115/2115 [==============================] - 3s 2ms/step - loss: 0.1980 - accuracy: 0.9253 - val_loss: 0.2131 - val_accuracy: 0.9149\n",
      "Epoch 126/150\n",
      "2115/2115 [==============================] - 3s 2ms/step - loss: 0.2109 - accuracy: 0.9210 - val_loss: 0.2131 - val_accuracy: 0.9130\n",
      "Epoch 127/150\n",
      "2115/2115 [==============================] - 3s 2ms/step - loss: 0.2110 - accuracy: 0.9196 - val_loss: 0.2148 - val_accuracy: 0.9112\n",
      "Epoch 128/150\n",
      "2115/2115 [==============================] - 3s 2ms/step - loss: 0.2078 - accuracy: 0.9258 - val_loss: 0.2783 - val_accuracy: 0.8771\n",
      "Epoch 129/150\n",
      "2115/2115 [==============================] - 3s 2ms/step - loss: 0.2196 - accuracy: 0.9154 - val_loss: 0.2148 - val_accuracy: 0.9130\n",
      "Epoch 130/150\n",
      "2115/2115 [==============================] - 3s 2ms/step - loss: 0.2063 - accuracy: 0.9220 - val_loss: 0.2145 - val_accuracy: 0.9112\n",
      "Epoch 131/150\n",
      "2115/2115 [==============================] - 3s 2ms/step - loss: 0.2067 - accuracy: 0.9215 - val_loss: 0.2332 - val_accuracy: 0.9112\n",
      "Epoch 132/150\n",
      "2115/2115 [==============================] - 3s 2ms/step - loss: 0.2099 - accuracy: 0.9173 - val_loss: 0.2157 - val_accuracy: 0.9093\n",
      "Epoch 133/150\n",
      "2115/2115 [==============================] - 3s 2ms/step - loss: 0.2059 - accuracy: 0.9253 - val_loss: 0.2141 - val_accuracy: 0.9130\n",
      "Epoch 134/150\n",
      "2115/2115 [==============================] - 3s 2ms/step - loss: 0.2053 - accuracy: 0.9220 - val_loss: 0.2221 - val_accuracy: 0.9074\n",
      "Epoch 135/150\n",
      "2115/2115 [==============================] - 3s 2ms/step - loss: 0.2080 - accuracy: 0.9272 - val_loss: 0.2139 - val_accuracy: 0.9093\n",
      "Epoch 136/150\n",
      "2115/2115 [==============================] - 3s 2ms/step - loss: 0.2042 - accuracy: 0.9267 - val_loss: 0.2129 - val_accuracy: 0.9093\n",
      "Epoch 137/150\n",
      "2115/2115 [==============================] - 3s 2ms/step - loss: 0.2025 - accuracy: 0.9248 - val_loss: 0.2238 - val_accuracy: 0.9130\n",
      "Epoch 138/150\n",
      "2115/2115 [==============================] - 3s 2ms/step - loss: 0.2026 - accuracy: 0.9253 - val_loss: 0.2209 - val_accuracy: 0.9149\n",
      "Epoch 139/150\n",
      "2115/2115 [==============================] - 3s 2ms/step - loss: 0.1989 - accuracy: 0.9272 - val_loss: 0.2272 - val_accuracy: 0.9130\n",
      "Epoch 140/150\n",
      "2115/2115 [==============================] - 3s 2ms/step - loss: 0.2036 - accuracy: 0.9258 - val_loss: 0.2123 - val_accuracy: 0.9112\n",
      "Epoch 141/150\n",
      "2115/2115 [==============================] - 3s 2ms/step - loss: 0.2011 - accuracy: 0.9239 - val_loss: 0.2120 - val_accuracy: 0.9093\n",
      "Epoch 142/150\n",
      "2115/2115 [==============================] - 3s 2ms/step - loss: 0.2021 - accuracy: 0.9262 - val_loss: 0.2120 - val_accuracy: 0.9093\n",
      "Epoch 143/150\n",
      "2115/2115 [==============================] - 3s 2ms/step - loss: 0.2001 - accuracy: 0.9215 - val_loss: 0.2316 - val_accuracy: 0.9130\n",
      "Epoch 144/150\n",
      "2115/2115 [==============================] - 4s 2ms/step - loss: 0.1953 - accuracy: 0.9291 - val_loss: 0.2100 - val_accuracy: 0.9130\n",
      "Epoch 145/150\n",
      "2115/2115 [==============================] - 3s 2ms/step - loss: 0.2019 - accuracy: 0.9239 - val_loss: 0.2183 - val_accuracy: 0.9093:  - ETA: 0s - loss: 0.2015 - \n",
      "Epoch 146/150\n",
      "2115/2115 [==============================] - 3s 2ms/step - loss: 0.2062 - accuracy: 0.9272 - val_loss: 0.2099 - val_accuracy: 0.9130\n",
      "Epoch 147/150\n",
      "2115/2115 [==============================] - 3s 2ms/step - loss: 0.2072 - accuracy: 0.9210 - val_loss: 0.2780 - val_accuracy: 0.8790\n",
      "Epoch 148/150\n",
      "2115/2115 [==============================] - 3s 2ms/step - loss: 0.2024 - accuracy: 0.9277 - val_loss: 0.2126 - val_accuracy: 0.9112\n",
      "Epoch 149/150\n",
      "2115/2115 [==============================] - 3s 2ms/step - loss: 0.1979 - accuracy: 0.9243 - val_loss: 0.2143 - val_accuracy: 0.9093\n",
      "Epoch 150/150\n",
      "2115/2115 [==============================] - 3s 2ms/step - loss: 0.2015 - accuracy: 0.9267 - val_loss: 0.2087 - val_accuracy: 0.9130\n"
     ]
    }
   ],
   "source": [
    "#Entrenamos el modelo, esto puede tardar varios minutos dependiendo de la velocidad de procesamiento del computador\n",
    "neumo_train = neumo_model.fit(train_X, train_label, batch_size=batch_size,epochs=epochs,verbose=1,validation_data=(valid_X, valid_label))"
   ]
  },
  {
   "cell_type": "markdown",
   "metadata": {},
   "source": [
    "#### Guardamos el modelo "
   ]
  },
  {
   "cell_type": "code",
   "execution_count": 87,
   "metadata": {},
   "outputs": [],
   "source": [
    "# guardamos la red, para reutilizarla en el futuro, sin tener que volver a entrenar\n",
    "neumo_model.save(\"NEUMONIA.h5py\")"
   ]
  },
  {
   "cell_type": "code",
   "execution_count": 88,
   "metadata": {},
   "outputs": [
    {
     "name": "stdout",
     "output_type": "stream",
     "text": [
      "662/662 [==============================] - 0s 538us/step\n"
     ]
    }
   ],
   "source": [
    "test_eval = neumo_model.evaluate(test_X, test_Y_one_hot, verbose=1)"
   ]
  },
  {
   "cell_type": "markdown",
   "metadata": {},
   "source": [
    "#### Medimos la capaacidad de predicción del modelo"
   ]
  },
  {
   "cell_type": "code",
   "execution_count": 89,
   "metadata": {},
   "outputs": [
    {
     "name": "stdout",
     "output_type": "stream",
     "text": [
      "Prueba de pérdida: 0.20648830514570019\n",
      "Prueba de exactitud: 0.9169184565544128\n"
     ]
    }
   ],
   "source": [
    "print('Prueba de pérdida:', test_eval[0])\n",
    "print('Prueba de exactitud:', test_eval[1])"
   ]
  },
  {
   "cell_type": "code",
   "execution_count": 90,
   "metadata": {},
   "outputs": [],
   "source": [
    "predicted_classes2 = neumo_model.predict(test_X)"
   ]
  },
  {
   "cell_type": "code",
   "execution_count": 91,
   "metadata": {},
   "outputs": [],
   "source": [
    "predicted_classes=[]\n",
    "for predicted_sport in predicted_classes2:\n",
    "    predicted_classes.append(predicted_sport.tolist().index(max(predicted_sport)))\n",
    "predicted_classes=np.array(predicted_classes)"
   ]
  },
  {
   "cell_type": "code",
   "execution_count": 92,
   "metadata": {},
   "outputs": [
    {
     "data": {
      "text/plain": [
       "((662,), (662,))"
      ]
     },
     "execution_count": 92,
     "metadata": {},
     "output_type": "execute_result"
    }
   ],
   "source": [
    "predicted_classes.shape, test_Y.shape"
   ]
  },
  {
   "cell_type": "markdown",
   "metadata": {},
   "source": [
    "#### Mostramos las predicciones correctas"
   ]
  },
  {
   "cell_type": "code",
   "execution_count": 93,
   "metadata": {},
   "outputs": [
    {
     "name": "stdout",
     "output_type": "stream",
     "text": [
      "Encontradas 607 predicciones correctas\n"
     ]
    },
    {
     "data": {
      "image/png": "[encoded data removed]",
      "text/plain": [
       "<Figure size 432x288 with 9 Axes>"
      ]
     },
     "metadata": {
      "needs_background": "light"
     },
     "output_type": "display_data"
    }
   ],
   "source": [
    "correct = np.where(predicted_classes==test_Y)[0]\n",
    "print(\"Encontradas %d predicciones correctas\" % len(correct))\n",
    "for i, correct in enumerate(correct[0:9]):\n",
    "    plt.subplot(3,3,i+1)\n",
    "    plt.imshow(test_X[correct].reshape(28,28,3), cmap='gray', interpolation='none')\n",
    "    plt.title(\"{}, {}\".format(NEUMONIA[predicted_classes[correct]],\n",
    "                                                    NEUMONIA[test_Y[correct]]))\n",
    "\n",
    "    plt.tight_layout()"
   ]
  },
  {
   "cell_type": "markdown",
   "metadata": {},
   "source": [
    "#### Se muestra las precciones incorrectas"
   ]
  },
  {
   "cell_type": "code",
   "execution_count": 94,
   "metadata": {},
   "outputs": [
    {
     "name": "stdout",
     "output_type": "stream",
     "text": [
      "Encontradas 55 predicciones incorrectas\n"
     ]
    },
    {
     "data": {
      "image/png": "[encoded data removed]",
      "text/plain": [
       "<Figure size 432x288 with 9 Axes>"
      ]
     },
     "metadata": {
      "needs_background": "light"
     },
     "output_type": "display_data"
    }
   ],
   "source": [
    "incorrect = np.where(predicted_classes!=test_Y)[0]\n",
    "print(\"Encontradas %d predicciones incorrectas\" % len(incorrect))\n",
    "for i, incorrect in enumerate(incorrect[0:9]):\n",
    "    plt.subplot(3,3,i+1)\n",
    "    plt.imshow(test_X[incorrect].reshape(28,28,3), cmap='gray', interpolation='none')\n",
    "    plt.title(\"{}, {}\".format(NEUMONIA[predicted_classes[incorrect]],\n",
    "                                                    NEUMONIA[test_Y[incorrect]]))\n",
    "    plt.tight_layout()"
   ]
  },
  {
   "cell_type": "code",
   "execution_count": 95,
   "metadata": {},
   "outputs": [
    {
     "name": "stdout",
     "output_type": "stream",
     "text": [
      "              precision    recall  f1-score   support\n",
      "\n",
      "     Class 0       0.88      0.94      0.91       284\n",
      "     Class 1       0.95      0.90      0.93       378\n",
      "\n",
      "    accuracy                           0.92       662\n",
      "   macro avg       0.91      0.92      0.92       662\n",
      "weighted avg       0.92      0.92      0.92       662\n",
      "\n"
     ]
    }
   ],
   "source": [
    "target_names = [\"Class {}\".format(i) for i in range(nClasses)]\n",
    "print(classification_report(test_Y, predicted_classes, target_names=target_names))"
   ]
  },
  {
   "cell_type": "code",
   "execution_count": null,
   "metadata": {},
   "outputs": [],
   "source": []
  },
  {
   "cell_type": "code",
   "execution_count": null,
   "metadata": {},
   "outputs": [],
   "source": []
  },
  {
   "cell_type": "code",
   "execution_count": null,
   "metadata": {},
   "outputs": [],
   "source": []
  }
 ],
 "metadata": {
  "kernelspec": {
   "display_name": "Python 3",
   "language": "python",
   "name": "python3"
  },
  "language_info": {
   "codemirror_mode": {
    "name": "ipython",
    "version": 3
   },
   "file_extension": ".py",
   "mimetype": "text/x-python",
   "name": "python",
   "nbconvert_exporter": "python",
   "pygments_lexer": "ipython3",
   "version": "3.7.4"
  }
 },
 "nbformat": 4,
 "nbformat_minor": 2
}
